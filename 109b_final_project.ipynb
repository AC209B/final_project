{
 "cells": [
  {
   "cell_type": "code",
   "execution_count": 10,
   "metadata": {},
   "outputs": [],
   "source": [
    "from lxml import etree\n",
    "import pdb\n",
    "import re\n",
    "from xml.dom import minidom\n",
    "import numpy as np\n",
    "import pdb\n",
    "from skimage.draw import polygon\n",
    "import numpy as np\n",
    "import cv2\n",
    "import matplotlib.pyplot as plt\n",
    "import tensorflow as tf"
   ]
  },
  {
   "cell_type": "code",
   "execution_count": 11,
   "metadata": {},
   "outputs": [
    {
     "data": {
      "text/plain": [
       "(1270, 814, 3)"
      ]
     },
     "execution_count": 11,
     "metadata": {},
     "output_type": "execute_result"
    }
   ],
   "source": [
    "path='./cubicasa5k/high_quality/17/F1_scaled.png'\n",
    "#svg=minidom.parse(path)\n",
    "fplan=cv2.imread(path)\n",
    "fplan=cv2.cvtColor(fplan,cv2.COLOR_BGR2RGB)\n",
    "fplan.shape"
   ]
  },
  {
   "cell_type": "code",
   "execution_count": 5,
   "metadata": {},
   "outputs": [],
   "source": [
    "\n",
    "class Wall:\n",
    "    def __init__(self, id, end_points, direction, width, name):\n",
    "        self.id = id\n",
    "        self.name = name\n",
    "        self.end_points = end_points\n",
    "        self.direction = direction\n",
    "        self.max_width = width\n",
    "        self.min_width = width\n",
    "\n",
    "    def change_end_points(self):\n",
    "        if self.direction == 'V':\n",
    "            self.end_points[0][0] = np.mean(np.array(self.min_coord))\n",
    "            self.end_points[1][0] = self.end_points[0][0]\n",
    "        elif self.direction == 'H':\n",
    "            self.end_points[0][1] = np.mean(np.array(self.min_coord))\n",
    "            self.end_points[1][1] = self.end_points[0][1]\n",
    "\n",
    "    def get_length(self, end_points):\n",
    "        return calc_distance(end_points[0], end_points[1])\n",
    "class PolygonWall(Wall):\n",
    "    def __init__(self, e, id, shape=None):\n",
    "        self.id = id\n",
    "        self.name = e.getAttribute('id')\n",
    "        self.X, self.Y = self.get_points(e)\n",
    "        if abs(max(self.X)-min(self.X)) < 4 or abs(max(self.Y)-min(self.Y)) < 4:\n",
    "            # wall is too small and we ignore it.\n",
    "            raise ValueError(\"small wall\")\n",
    "        if shape:\n",
    "            self.X = np.clip(self.X, 0, shape[1])\n",
    "            self.Y = np.clip(self.Y, 0, shape[0])\n",
    "        # self.X, self.Y = self.sort_X_Y(self.X, self.Y)\n",
    "        self.rr, self.cc = polygon(self.Y, self.X)\n",
    "        #direction = self.get_direction(self.X, self.Y)\n",
    "        #end_points = self.get_end_points(self.X, self.Y, direction)\n",
    "        #self.min_width = self.get_width(self.X, self.Y, direction)\n",
    "        #self.max_width = self.min_width\n",
    "\n",
    "        #Wall.__init__(self, id, end_points, direction, self.max_width, self.name)\n",
    "        #self.length = self.get_length(self.end_points)\n",
    "        #self.center = self.get_center(self.X, self.Y)\n",
    "        #self.min_coord, self.max_coord = self.get_width_coods(self.X, self.Y)\n",
    "\n",
    "    def get_points(self, e):\n",
    "        pol = next(p for p in e.childNodes if p.nodeName == \"polygon\")\n",
    "        points = pol.getAttribute(\"points\").split(' ')\n",
    "        points = points[:-1]\n",
    "\n",
    "        X, Y = np.array([]), np.array([])\n",
    "        for a in points:\n",
    "            x, y = a.split(',')\n",
    "            X = np.append(X, np.round(float(x)))\n",
    "            Y = np.append(Y, np.round(float(y)))\n",
    "\n",
    "        return X, Y\n",
    "\n"
   ]
  },
  {
   "cell_type": "code",
   "execution_count": 6,
   "metadata": {},
   "outputs": [],
   "source": [
    "def clip_outside( rr, cc,shape):\n",
    "        s = np.column_stack((rr, cc))\n",
    "        s = s[s[:, 0] < shape[0]]\n",
    "        s = s[s[:, 1] < shape[1]]\n",
    "\n",
    "        return s[:, 0], s[:, 1]\n",
    "def extract_wall(data_path):\n",
    "    fplan=cv2.imread(data_path+'F1_scaled.png')\n",
    "    fplan=cv2.cvtColor(fplan,cv2.COLOR_BGR2RGB)\n",
    "    height,width,nchannel=fplan.shape\n",
    "    #fplan=np.moveaxis(fplan,-1,0)\n",
    "    svg=minidom.parse(data_path+'model.svg')\n",
    "    walls=np.zeros((height,width),dtype=np.uint8)\n",
    "    wall_id=0\n",
    "    shape=height,width\n",
    "    for e in svg.getElementsByTagName('g'):\n",
    "        try:\n",
    "            if e.getAttribute(\"id\")==\"Wall\":\n",
    "                wall = PolygonWall(e, wall_id, shape)\n",
    "                wall.rr, wall.cc = clip_outside(wall.rr, wall.cc,shape)\n",
    "                walls[wall.rr, wall.cc] = 1\n",
    "                wall_id+=1\n",
    "                #plt.imshow(walls)\n",
    "                #plt.show()\n",
    "            if e.getAttribute(\"id\")==\"Railing\":\n",
    "                wall = PolygonWall(e, wall_id, shape)\n",
    "                wall.rr, wall.cc = clip_outside(wall.rr, wall.cc,shape)\n",
    "                walls[wall.rr, wall.cc] = 1\n",
    "                wall_id+=1\n",
    "        except ValueError as k:\n",
    "            if str(k)=='small wall':\n",
    "                continue\n",
    "    input_image=cv2.resize(fplan,(256,256))\n",
    "    wall_target=cv2.resize(walls,(256,256))\n",
    "    return input_image,wall_target\n",
    "    \n",
    "    "
   ]
  },
  {
   "cell_type": "code",
   "execution_count": 7,
   "metadata": {},
   "outputs": [
    {
     "data": {
      "text/plain": [
       "<matplotlib.image.AxesImage at 0x10315dac8>"
      ]
     },
     "execution_count": 7,
     "metadata": {},
     "output_type": "execute_result"
    },
    {
     "data": {
      "image/png": "[encoded data removed]",
      "text/plain": [
       "<Figure size 432x288 with 1 Axes>"
      ]
     },
     "metadata": {
      "needs_background": "light"
     },
     "output_type": "display_data"
    }
   ],
   "source": [
    "x=extract_wall(test)\n",
    "plt.imshow(x[1])"
   ]
  },
  {
   "cell_type": "code",
   "execution_count": 8,
   "metadata": {},
   "outputs": [
    {
     "name": "stdout",
     "output_type": "stream",
     "text": [
      "(32, 256, 256)\n",
      "(32, 256, 256)\n",
      "(32, 256, 256)\n",
      "(32, 256, 256)\n",
      "(32, 256, 256)\n"
     ]
    }
   ],
   "source": [
    "#get train list\n",
    "train_path='./cubicasa5k/train.txt' \n",
    "val_path='./cubicasa5k/val.txt' \n",
    "data_folder='./cubicasa5k'\n",
    "data_path=['./cubicasa5k'+i for i in np.genfromtxt(train_path,dtype='str')]\n",
    "def our_generator():\n",
    "    for i in range(len(data_path)):\n",
    "        x = extract_wall(data_path[i])[0]\n",
    "        y = extract_wall(data_path[i])[1]\n",
    "        yield x,y\n",
    "train_dataset=tf.data.Dataset.from_generator(our_generator,output_types=(tf.float32, tf.int16))\n",
    "train_df=train_dataset.batch(32).prefetch(1)\n",
    "data_path=['./cubicasa5k'+i for i in np.genfromtxt(val_path,dtype='str')]\n",
    "val_dataset=tf.data.Dataset.from_generator(our_generator,output_types=(tf.float32, tf.int16))\n",
    "val_df=_dataset.batch(32).prefetch(1)\n",
    "for i in train_df.take(5):\n",
    "    print(i[1].shape)\n",
    "    "
   ]
  },
  {
   "cell_type": "code",
   "execution_count": 9,
   "metadata": {},
   "outputs": [
    {
     "data": {
      "text/plain": [
       "tensorflow.python.data.ops.dataset_ops.PrefetchDataset"
      ]
     },
     "execution_count": 9,
     "metadata": {},
     "output_type": "execute_result"
    }
   ],
   "source": [
    "type(train_df)"
   ]
  },
  {
   "cell_type": "code",
   "execution_count": 211,
   "metadata": {},
   "outputs": [
    {
     "name": "stdout",
     "output_type": "stream",
     "text": [
      "0\n",
      "100\n",
      "200\n",
      "300\n",
      "400\n",
      "500\n",
      "600\n",
      "700\n",
      "800\n",
      "900\n",
      "1000\n",
      "1100\n",
      "1200\n",
      "1300\n",
      "1400\n",
      "1500\n",
      "1600\n",
      "1700\n",
      "1800\n",
      "1900\n",
      "2000\n",
      "2100\n",
      "2200\n",
      "2300\n",
      "2400\n",
      "2500\n",
      "2600\n",
      "2700\n",
      "2800\n",
      "2900\n",
      "3000\n",
      "3100\n",
      "3200\n",
      "3300\n",
      "3400\n",
      "3500\n",
      "3600\n",
      "3700\n",
      "3800\n",
      "3900\n",
      "4000\n",
      "4100\n"
     ]
    }
   ],
   "source": [
    "#manually load\n",
    "\"\"\"\n",
    "X=np.empty((len(data_path),256,256,3))\n",
    "Y=np.empty((len(data_path),256,256))\n",
    "for i in range(len(data_path)):\n",
    "    if i %100==0:\n",
    "        print(i)\n",
    "    X[i]=extract_wall(data_path[i])[0]\n",
    "    Y[i]=extract_wall(data_path[i])[1]\n",
    "\"\"\""
   ]
  },
  {
   "cell_type": "code",
   "execution_count": null,
   "metadata": {},
   "outputs": [],
   "source": []
  },
  {
   "cell_type": "code",
   "execution_count": null,
   "metadata": {},
   "outputs": [],
   "source": []
  }
 ],
 "metadata": {
  "kernelspec": {
   "display_name": "Python 3",
   "language": "python",
   "name": "python3"
  },
  "language_info": {
   "codemirror_mode": {
    "name": "ipython",
    "version": 3
   },
   "file_extension": ".py",
   "mimetype": "text/x-python",
   "name": "python",
   "nbconvert_exporter": "python",
   "pygments_lexer": "ipython3",
   "version": "3.7.3"
  }
 },
 "nbformat": 4,
 "nbformat_minor": 4
}
