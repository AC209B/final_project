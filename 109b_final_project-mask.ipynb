{
 "cells": [
  {
   "cell_type": "code",
   "execution_count": 1,
   "metadata": {},
   "outputs": [],
   "source": [
    "from lxml import etree\n",
    "import pdb\n",
    "import re\n",
    "from xml.dom import minidom\n",
    "import numpy as np\n",
    "import pdb\n",
    "from skimage.draw import polygon\n",
    "import numpy as np\n",
    "import cv2\n",
    "import matplotlib.pyplot as plt\n",
    "import tensorflow as tf\n",
    "import pandas as pd\n"
   ]
  },
  {
   "cell_type": "code",
   "execution_count": 2,
   "metadata": {},
   "outputs": [],
   "source": [
    "from tensorflow.keras import backend as K\n",
    "from tensorflow.keras import layers\n",
    "from tensorflow.keras import models\n",
    "from tensorflow.keras import losses\n",
    "from tensorflow.keras import optimizers\n",
    "from tensorflow.keras import initializers\n",
    "from tensorflow.keras.metrics import *\n",
    "\n",
    "from tensorflow.keras import Model, Sequential\n",
    "from tensorflow.keras.models import model_from_json\n",
    "from tensorflow.keras.optimizers import Adam\n",
    "from tensorflow.keras.layers import Input, Dense, Conv2D, Reshape,Conv2DTranspose,Flatten, MaxPooling2D,Dropout,UpSampling2D,concatenate\n"
   ]
  },
  {
   "cell_type": "code",
   "execution_count": 9,
   "metadata": {},
   "outputs": [],
   "source": [
    "from skimage import measure\n",
    "import scipy\n",
    "from scipy import ndimage"
   ]
  },
  {
   "cell_type": "code",
   "execution_count": 214,
   "metadata": {},
   "outputs": [],
   "source": [
    "#get train list\n",
    "train_path='./cubicasa5k/train.txt' \n",
    "data_folder='./cubicasa5k'\n",
    "data_path=['./cubicasa5k'+i for i in np.genfromtxt(train_path,dtype='str')]"
   ]
  },
  {
   "cell_type": "code",
   "execution_count": 215,
   "metadata": {},
   "outputs": [],
   "source": [
    "test_path='./cubicasa5k/test.txt' \n",
    "data_path2 = ['./cubicasa5k'+i for i in np.genfromtxt(test_path,dtype='str')]"
   ]
  },
  {
   "cell_type": "code",
   "execution_count": 3,
   "metadata": {},
   "outputs": [],
   "source": [
    "\n",
    "class Wall:\n",
    "    def __init__(self, id, end_points, direction, width, name):\n",
    "        self.id = id\n",
    "        self.name = name\n",
    "        self.end_points = end_points\n",
    "        self.direction = direction\n",
    "        self.max_width = width\n",
    "        self.min_width = width\n",
    "\n",
    "    def change_end_points(self):\n",
    "        if self.direction == 'V':\n",
    "            self.end_points[0][0] = np.mean(np.array(self.min_coord))\n",
    "            self.end_points[1][0] = self.end_points[0][0]\n",
    "        elif self.direction == 'H':\n",
    "            self.end_points[0][1] = np.mean(np.array(self.min_coord))\n",
    "            self.end_points[1][1] = self.end_points[0][1]\n",
    "\n",
    "    def get_length(self, end_points):\n",
    "        return calc_distance(end_points[0], end_points[1])\n",
    "class PolygonWall(Wall):\n",
    "    def __init__(self, e, id, shape=None):\n",
    "        self.id = id\n",
    "        self.name = e.getAttribute('id')\n",
    "        self.X, self.Y = self.get_points(e)\n",
    "        if abs(max(self.X)-min(self.X)) < 4 or abs(max(self.Y)-min(self.Y)) < 4:\n",
    "            # wall is too small and we ignore it.\n",
    "            raise ValueError(\"small wall\")\n",
    "        if shape:\n",
    "            self.X = np.clip(self.X, 0, shape[1])\n",
    "            self.Y = np.clip(self.Y, 0, shape[0])\n",
    "        # self.X, self.Y = self.sort_X_Y(self.X, self.Y)\n",
    "        self.rr, self.cc = polygon(self.Y, self.X)\n",
    "        #direction = self.get_direction(self.X, self.Y)\n",
    "        #end_points = self.get_end_points(self.X, self.Y, direction)\n",
    "        #self.min_width = self.get_width(self.X, self.Y, direction)\n",
    "        #self.max_width = self.min_width\n",
    "\n",
    "        #Wall.__init__(self, id, end_points, direction, self.max_width, self.name)\n",
    "        #self.length = self.get_length(self.end_points)\n",
    "        #self.center = self.get_center(self.X, self.Y)\n",
    "        #self.min_coord, self.max_coord = self.get_width_coods(self.X, self.Y)\n",
    "\n",
    "    def get_points(self, e):\n",
    "        pol = next(p for p in e.childNodes if p.nodeName == \"polygon\")\n",
    "        points = pol.getAttribute(\"points\").split(' ')\n",
    "        points = points[:-1]\n",
    "\n",
    "        X, Y = np.array([]), np.array([])\n",
    "        for a in points:\n",
    "            x, y = a.split(',')\n",
    "            X = np.append(X, np.round(float(x)))\n",
    "            Y = np.append(Y, np.round(float(y)))\n",
    "\n",
    "        return X, Y\n",
    "\n"
   ]
  },
  {
   "cell_type": "code",
   "execution_count": 4,
   "metadata": {},
   "outputs": [],
   "source": [
    "def clip_outside( rr, cc,shape):\n",
    "        s = np.column_stack((rr, cc))\n",
    "        s = s[s[:, 0] < shape[0]]\n",
    "        s = s[s[:, 1] < shape[1]]\n",
    "\n",
    "        return s[:, 0], s[:, 1]\n",
    "def extract_wall(data_path):\n",
    "    fplan=cv2.imread(data_path+'F1_scaled.png')\n",
    "    fplan=cv2.cvtColor(fplan,cv2.COLOR_BGR2RGB)\n",
    "    height,width,nchannel=fplan.shape\n",
    "    #fplan=np.moveaxis(fplan,-1,0)\n",
    "    svg=minidom.parse(data_path+'model.svg')\n",
    "    walls=np.zeros((height,width),dtype=np.uint8)\n",
    "    wall_id=0\n",
    "    shape=height,width\n",
    "    for e in svg.getElementsByTagName('g'):\n",
    "        try:\n",
    "            if e.getAttribute(\"id\")==\"Wall\":\n",
    "                wall = PolygonWall(e, wall_id, shape)\n",
    "                wall.rr, wall.cc = clip_outside(wall.rr, wall.cc,shape)\n",
    "                walls[wall.rr, wall.cc] = 1\n",
    "                wall_id+=1\n",
    "                #plt.imshow(walls)\n",
    "                #plt.show()\n",
    "            if e.getAttribute(\"id\")==\"Railing\":\n",
    "                wall = PolygonWall(e, wall_id, shape)\n",
    "                wall.rr, wall.cc = clip_outside(wall.rr, wall.cc,shape)\n",
    "                walls[wall.rr, wall.cc] = 0.1\n",
    "                wall_id+=1\n",
    "        except ValueError as k:\n",
    "            if str(k)=='small wall':\n",
    "                continue\n",
    "    input_image=cv2.resize(fplan,(256,256))\n",
    "    wall_target=cv2.resize(walls,(256,256))\n",
    "    return input_image,wall_target\n",
    "    \n",
    "    "
   ]
  },
  {
   "cell_type": "code",
   "execution_count": 79,
   "metadata": {},
   "outputs": [
    {
     "data": {
      "text/plain": [
       "<matplotlib.image.AxesImage at 0x7fde61287450>"
      ]
     },
     "execution_count": 79,
     "metadata": {},
     "output_type": "execute_result"
    },
    {
     "data": {
      "image/png": "[encoded data removed]",
      "text/plain": [
       "<Figure size 432x288 with 1 Axes>"
      ]
     },
     "metadata": {
      "needs_background": "light"
     },
     "output_type": "display_data"
    }
   ],
   "source": [
    "x=extract_wall(test)\n",
    "plt.imshow(x[1])"
   ]
  },
  {
   "cell_type": "code",
   "execution_count": 71,
   "metadata": {},
   "outputs": [
    {
     "data": {
      "text/plain": [
       "<matplotlib.image.AxesImage at 0x7fde61571750>"
      ]
     },
     "execution_count": 71,
     "metadata": {},
     "output_type": "execute_result"
    },
    {
     "data": {
      "image/png": "[encoded data removed]",
      "text/plain": [
       "<Figure size 432x288 with 1 Axes>"
      ]
     },
     "metadata": {
      "needs_background": "light"
     },
     "output_type": "display_data"
    }
   ],
   "source": [
    "re = cv2.imread(test+'F1_scaled.png')\n",
    "re = cv2.resize(re,(256,256))\n",
    "plt.imshow(re)"
   ]
  },
  {
   "cell_type": "code",
   "execution_count": 206,
   "metadata": {},
   "outputs": [],
   "source": [
    "test=data_path[10]\n",
    "x=extract_wall(test)"
   ]
  },
  {
   "cell_type": "code",
   "execution_count": 207,
   "metadata": {},
   "outputs": [
    {
     "data": {
      "text/plain": [
       "<matplotlib.image.AxesImage at 0x7fde51e35110>"
      ]
     },
     "execution_count": 207,
     "metadata": {},
     "output_type": "execute_result"
    },
    {
     "data": {
      "image/png": "[encoded data removed]",
      "text/plain": [
       "<Figure size 432x288 with 1 Axes>"
      ]
     },
     "metadata": {
      "needs_background": "light"
     },
     "output_type": "display_data"
    }
   ],
   "source": [
    "mask = ndimage.binary_dilation(x[1]).astype(np.float32)\n",
    "mask = np.ones((256,256)) - mask\n",
    "\n",
    "mask1 = mask.copy()\n",
    "row = np.any(mask1==0,axis = 1)==1\n",
    "col = np.any(mask1==0,axis = 0)==1\n",
    "row1 = np.array([row]*256).transpose().astype(np.int8)\n",
    "col1 = np.array([col]*256).astype(np.int8)\n",
    "mask1 = np.floor((row1+col1)/2)\n",
    "\n",
    "mask2 = np.floor((mask + mask1)/2)\n",
    "mask2 = ndimage.binary_erosion(mask2).astype(np.float32)\n",
    "mask2 = ndimage.binary_dilation(mask2).astype(np.float32)\n",
    "\n",
    "mask2_3d = np.array([mask2]*3)\n",
    "mask2_3d = mask2_3d.transpose((1, 2, 0))\n",
    "plt.imshow(mask2)"
   ]
  },
  {
   "cell_type": "code",
   "execution_count": 212,
   "metadata": {},
   "outputs": [
    {
     "data": {
      "text/plain": [
       "<matplotlib.image.AxesImage at 0x7fde51c46550>"
      ]
     },
     "execution_count": 212,
     "metadata": {},
     "output_type": "execute_result"
    },
    {
     "data": {
      "image/png": "[encoded data removed]",
      "text/plain": [
       "<Figure size 432x288 with 1 Axes>"
      ]
     },
     "metadata": {
      "needs_background": "light"
     },
     "output_type": "display_data"
    }
   ],
   "source": [
    "labels = measure.label(mask2)\n",
    "plt.imshow(labels)"
   ]
  },
  {
   "cell_type": "markdown",
   "metadata": {},
   "source": [
    "### code to create masks, saved as np.array"
   ]
  },
  {
   "cell_type": "code",
   "execution_count": 5,
   "metadata": {},
   "outputs": [],
   "source": [
    "train_path='./cubicasa5k/train.txt' \n",
    "data_path1=['./cubicasa5k'+i for i in np.genfromtxt(train_path,dtype='str')]\n",
    "\n",
    "test_path='./cubicasa5k/test.txt' \n",
    "data_path2 = ['./cubicasa5k'+i for i in np.genfromtxt(test_path,dtype='str')]"
   ]
  },
  {
   "cell_type": "code",
   "execution_count": 10,
   "metadata": {},
   "outputs": [
    {
     "name": "stdout",
     "output_type": "stream",
     "text": [
      "0\n",
      "100\n",
      "200\n",
      "300\n",
      "400\n",
      "500\n",
      "600\n",
      "700\n",
      "800\n",
      "900\n",
      "1000\n",
      "1100\n",
      "1200\n",
      "1300\n",
      "1400\n",
      "1500\n",
      "1600\n",
      "1700\n",
      "1800\n",
      "1900\n",
      "2000\n",
      "2100\n",
      "2200\n",
      "2300\n",
      "2400\n",
      "2500\n",
      "2600\n",
      "2700\n",
      "2800\n",
      "2900\n",
      "3000\n",
      "3100\n",
      "3200\n",
      "3300\n",
      "3400\n",
      "3500\n",
      "3600\n",
      "3700\n",
      "3800\n",
      "3900\n",
      "4000\n",
      "4100\n"
     ]
    }
   ],
   "source": [
    "data_path = data_path1\n",
    "Y=np.empty((len(data_path),256,256))\n",
    "for i in range(len(data_path)):\n",
    "    if i %100==0:\n",
    "        print(i)\n",
    "    x=extract_wall(data_path[i])\n",
    "    \n",
    "    mask = ndimage.binary_dilation(x[1]).astype(np.float32)\n",
    "    mask = np.ones((256,256)) - mask\n",
    "\n",
    "    mask1 = mask.copy()\n",
    "    row = np.any(mask1==0,axis = 1)==1\n",
    "    col = np.any(mask1==0,axis = 0)==1\n",
    "    row1 = np.array([row]*256).transpose().astype(np.int8)\n",
    "    col1 = np.array([col]*256).astype(np.int8)\n",
    "    mask1 = np.floor((row1+col1)/2)\n",
    "\n",
    "    mask2 = np.floor((mask + mask1)/2)\n",
    "    mask2 = ndimage.binary_erosion(mask2).astype(np.float32)\n",
    "    mask2 = ndimage.binary_dilation(mask2).astype(np.float32)\n",
    "    labels = measure.label(mask2)\n",
    "\n",
    "    Y[i] = labels\n",
    "\n",
    "    \n",
    "outfile = './saved_arrays/train_label.npy'\n",
    "\n",
    "np.save(outfile, Y)\n"
   ]
  },
  {
   "cell_type": "code",
   "execution_count": 11,
   "metadata": {},
   "outputs": [
    {
     "name": "stdout",
     "output_type": "stream",
     "text": [
      "0\n",
      "100\n",
      "200\n",
      "300\n"
     ]
    }
   ],
   "source": [
    "data_path = data_path2\n",
    "Y=np.empty((len(data_path),256,256))\n",
    "for i in range(len(data_path)):\n",
    "    if i %100==0:\n",
    "        print(i)\n",
    "    x=extract_wall(data_path[i])\n",
    "    \n",
    "    mask = ndimage.binary_dilation(x[1]).astype(np.float32)\n",
    "    mask = np.ones((256,256)) - mask\n",
    "\n",
    "    mask1 = mask.copy()\n",
    "    row = np.any(mask1==0,axis = 1)==1\n",
    "    col = np.any(mask1==0,axis = 0)==1\n",
    "    row1 = np.array([row]*256).transpose().astype(np.int8)\n",
    "    col1 = np.array([col]*256).astype(np.int8)\n",
    "    mask1 = np.floor((row1+col1)/2)\n",
    "\n",
    "    mask2 = np.floor((mask + mask1)/2)\n",
    "    mask2 = ndimage.binary_erosion(mask2).astype(np.float32)\n",
    "    mask2 = ndimage.binary_dilation(mask2).astype(np.float32)\n",
    "    labels = measure.label(mask2)\n",
    "\n",
    "    Y[i] = labels\n",
    "\n",
    "    \n",
    "outfile = './saved_arrays/test_label.npy'\n",
    "\n",
    "np.save(outfile, Y)\n"
   ]
  },
  {
   "cell_type": "code",
   "execution_count": null,
   "metadata": {},
   "outputs": [],
   "source": [
    "\n",
    "train_path='./cubicasa5k/train_h.txt' \n",
    "data_path1=['./cubicasa5k'+i for i in np.genfromtxt(train_path,dtype='str')]\n",
    "\n",
    "\n",
    "data_path = data_path1\n",
    "Y=np.empty((len(data_path),256,256))\n",
    "for i in range(len(data_path)):\n",
    "    if i %100==0:\n",
    "        print(i)\n",
    "    x=extract_wall(data_path[i])\n",
    "    \n",
    "    mask = ndimage.binary_dilation(x[1]).astype(np.float32)\n",
    "    mask = np.ones((256,256)) - mask\n",
    "\n",
    "    mask1 = mask.copy()\n",
    "    row = np.any(mask1==0,axis = 1)==1\n",
    "    col = np.any(mask1==0,axis = 0)==1\n",
    "    row1 = np.array([row]*256).transpose().astype(np.int8)\n",
    "    col1 = np.array([col]*256).astype(np.int8)\n",
    "    mask1 = np.floor((row1+col1)/2)\n",
    "\n",
    "    mask2 = np.floor((mask + mask1)/2)\n",
    "    mask2 = ndimage.binary_erosion(mask2).astype(np.float32)\n",
    "    mask2 = ndimage.binary_dilation(mask2).astype(np.float32)\n",
    "    labels = measure.label(mask2)\n",
    "\n",
    "    Y[i] = labels\n",
    "\n",
    "outfile = './saved_arrays/train_label_h.npy'\n",
    "\n",
    "np.save(outfile, Y)   "
   ]
  },
  {
   "cell_type": "code",
   "execution_count": 23,
   "metadata": {},
   "outputs": [
    {
     "name": "stdout",
     "output_type": "stream",
     "text": [
      "0\n",
      "100\n"
     ]
    }
   ],
   "source": [
    "test_path='./cubicasa5k/val_h.txt' \n",
    "data_path2 = ['./cubicasa5k'+i for i in np.genfromtxt(test_path,dtype='str')]\n",
    "\n",
    "\n",
    "\n",
    "data_path = data_path2\n",
    "Y=np.empty((len(data_path),256,256))\n",
    "for i in range(len(data_path)):\n",
    "    if i %100==0:\n",
    "        print(i)\n",
    "    x=extract_wall(data_path[i])\n",
    "    \n",
    "    mask = ndimage.binary_dilation(x[1]).astype(np.float32)\n",
    "    mask = np.ones((256,256)) - mask\n",
    "\n",
    "    mask1 = mask.copy()\n",
    "    row = np.any(mask1==0,axis = 1)==1\n",
    "    col = np.any(mask1==0,axis = 0)==1\n",
    "    row1 = np.array([row]*256).transpose().astype(np.int8)\n",
    "    col1 = np.array([col]*256).astype(np.int8)\n",
    "    mask1 = np.floor((row1+col1)/2)\n",
    "\n",
    "    mask2 = np.floor((mask + mask1)/2)\n",
    "    mask2 = ndimage.binary_erosion(mask2).astype(np.float32)\n",
    "    mask2 = ndimage.binary_dilation(mask2).astype(np.float32)\n",
    "    labels = measure.label(mask2)\n",
    "\n",
    "    Y[i] = labels\n",
    "\n",
    "    \n",
    "outfile = './saved_arrays/test_label_h.npy'\n",
    "\n",
    "np.save(outfile, Y)\n"
   ]
  },
  {
   "cell_type": "code",
   "execution_count": 24,
   "metadata": {},
   "outputs": [],
   "source": [
    "#Y1 = np.load(outfile)\n",
    "#len(Y1)\n",
    "#plt.imshow(Y1[1])"
   ]
  },
  {
   "cell_type": "code",
   "execution_count": 60,
   "metadata": {},
   "outputs": [],
   "source": []
  },
  {
   "cell_type": "markdown",
   "metadata": {},
   "source": [
    "### weighted loss, to be added"
   ]
  },
  {
   "cell_type": "code",
   "execution_count": 97,
   "metadata": {},
   "outputs": [],
   "source": [
    "from tensorflow.keras.utils import to_categorical\n",
    "from scipy import stats\n",
    "\n",
    "rand_out = np.random.randint(0,4,size = (256,256))\n",
    "test = to_categorical(rand_out)\n",
    "mask = Y[34]"
   ]
  },
  {
   "cell_type": "code",
   "execution_count": 83,
   "metadata": {},
   "outputs": [],
   "source": [
    "#test = final output layer\n",
    "#mask = input mask\n",
    "#alpha = weight of added loss\n",
    "\n",
    "### this is discarded as gradient can't be estimated\n",
    "\n",
    "back = np.argmax(test,axis = 2)+1\n",
    "n_room = int(mask.max())\n",
    "weigheted_loss = 0\n",
    "for i_room in range(n_room+1):\n",
    "    mask_temp = (mask == i_room)\n",
    "\n",
    "\n",
    "    eval = back*mask_temp\n",
    "    eval.reshape(1,256**2)\n",
    "    eval = eval[eval>0]\n",
    "    weigheted_loss_room = 1 - int(stats.mode(eval)[1])/len(eval)\n",
    "    weigheted_loss += weigheted_loss_room\n",
    "    \n",
    "model.add_loss(alpha * weigheted_loss) \n"
   ]
  },
  {
   "cell_type": "markdown",
   "metadata": {},
   "source": [
    "#### NEW PART "
   ]
  },
  {
   "cell_type": "code",
   "execution_count": 124,
   "metadata": {},
   "outputs": [],
   "source": [
    "#test = final output layer\n",
    "#mask = input mask\n",
    "#alpha = weight of added loss\n",
    "\n",
    "back = np.argmax(test,axis = 2)\n",
    "back_down = np.roll(back,1,axis = 0)\n",
    "back_down[0,:] = 0\n",
    "back_right = np.roll(back,1)\n",
    "back_right[:,0] = 0\n",
    "num_class = back.max()+1\n",
    "\n",
    "out_mask = tf.constant(to_categorical(back * (mask>0),num_classes = num_class))\n",
    "out_down_mask = tf.constant(to_categorical(back_down * (mask>0),num_classes = num_class))\n",
    "out_right_mask = tf.constant(to_categorical(back_right * (mask>0),num_classes = num_class))\n",
    "\n",
    "\n",
    "model.add_loss(alpha * tf.keras.backend.categorical_crossentropy(out_mask,out_down_mask),alpha * tf.keras.backend.categorical_crossentropy(out_mask,out_right_mask))\n",
    "\n",
    "\n",
    "\n",
    "\n"
   ]
  },
  {
   "cell_type": "code",
   "execution_count": 119,
   "metadata": {},
   "outputs": [
    {
     "data": {
      "text/plain": [
       "<matplotlib.image.AxesImage at 0x83fcf9210>"
      ]
     },
     "execution_count": 119,
     "metadata": {},
     "output_type": "execute_result"
    },
    {
     "data": {
      "image/png": "[encoded data removed]",
      "text/plain": [
       "<Figure size 432x288 with 1 Axes>"
      ]
     },
     "metadata": {
      "needs_background": "light"
     },
     "output_type": "display_data"
    }
   ],
   "source": [
    "plt.imshow(back * (mask>0))"
   ]
  },
  {
   "cell_type": "code",
   "execution_count": null,
   "metadata": {},
   "outputs": [],
   "source": []
  }
 ],
 "metadata": {
  "kernelspec": {
   "display_name": "Python 3",
   "language": "python",
   "name": "python3"
  },
  "language_info": {
   "codemirror_mode": {
    "name": "ipython",
    "version": 3
   },
   "file_extension": ".py",
   "mimetype": "text/x-python",
   "name": "python",
   "nbconvert_exporter": "python",
   "pygments_lexer": "ipython3",
   "version": "3.7.5"
  }
 },
 "nbformat": 4,
 "nbformat_minor": 4
}
