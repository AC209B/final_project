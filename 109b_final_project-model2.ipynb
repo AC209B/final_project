{
 "cells": [
  {
   "cell_type": "code",
   "execution_count": 15,
   "metadata": {},
   "outputs": [],
   "source": [
    "from lxml import etree\n",
    "import pdb\n",
    "import re\n",
    "from xml.dom import minidom\n",
    "import numpy as np\n",
    "import pdb\n",
    "from skimage.draw import polygon\n",
    "import numpy as np\n",
    "import cv2\n",
    "import matplotlib.pyplot as plt\n",
    "import tensorflow as tf\n",
    "import pandas as pd\n"
   ]
  },
  {
   "cell_type": "code",
   "execution_count": 43,
   "metadata": {},
   "outputs": [],
   "source": [
    "from tensorflow.keras import backend as K\n",
    "from tensorflow.keras import layers\n",
    "from tensorflow.keras import models\n",
    "from tensorflow.keras import losses\n",
    "from tensorflow.keras import optimizers\n",
    "from tensorflow.keras import initializers\n",
    "from tensorflow.keras.metrics import *\n",
    "\n",
    "from tensorflow.keras import Model, Sequential\n",
    "from tensorflow.keras.models import model_from_json\n",
    "from tensorflow.keras.optimizers import Adam\n",
    "from tensorflow.keras.layers import Input, Dense, Conv2D, Reshape,Conv2DTranspose,Flatten, MaxPooling2D,Dropout,UpSampling2D,concatenate\n",
    "from tensorflow.keras.utils import to_categorical"
   ]
  },
  {
   "cell_type": "code",
   "execution_count": 17,
   "metadata": {},
   "outputs": [
    {
     "data": {
      "text/plain": [
       "(1270, 814, 3)"
      ]
     },
     "execution_count": 17,
     "metadata": {},
     "output_type": "execute_result"
    }
   ],
   "source": [
    "path='./cubicasa5k/high_quality/17/F1_scaled.png'\n",
    "#svg=minidom.parse(path)\n",
    "fplan=cv2.imread(path)\n",
    "fplan=cv2.cvtColor(fplan,cv2.COLOR_BGR2RGB)\n",
    "fplan.shape"
   ]
  },
  {
   "cell_type": "code",
   "execution_count": 18,
   "metadata": {},
   "outputs": [],
   "source": [
    "#get train list\n",
    "train_path='./cubicasa5k/train.txt' \n",
    "data_folder='./cubicasa5k'\n",
    "data_path=['./cubicasa5k'+i for i in np.genfromtxt(train_path,dtype='str')]"
   ]
  },
  {
   "cell_type": "code",
   "execution_count": 33,
   "metadata": {},
   "outputs": [],
   "source": [
    "test_path='./cubicasa5k/test.txt' \n",
    "data_path2 = ['./cubicasa5k'+i for i in np.genfromtxt(test_path,dtype='str')]"
   ]
  },
  {
   "cell_type": "code",
   "execution_count": 20,
   "metadata": {},
   "outputs": [
    {
     "data": {
      "text/plain": [
       "'./cubicasa5k/high_quality_architectural/1269/'"
      ]
     },
     "execution_count": 20,
     "metadata": {},
     "output_type": "execute_result"
    }
   ],
   "source": [
    "test=data_path[5]\n",
    "test"
   ]
  },
  {
   "cell_type": "code",
   "execution_count": 21,
   "metadata": {},
   "outputs": [],
   "source": [
    "\n",
    "class Wall:\n",
    "    def __init__(self, id, end_points, direction, width, name):\n",
    "        self.id = id\n",
    "        self.name = name\n",
    "        self.end_points = end_points\n",
    "        self.direction = direction\n",
    "        self.max_width = width\n",
    "        self.min_width = width\n",
    "\n",
    "    def change_end_points(self):\n",
    "        if self.direction == 'V':\n",
    "            self.end_points[0][0] = np.mean(np.array(self.min_coord))\n",
    "            self.end_points[1][0] = self.end_points[0][0]\n",
    "        elif self.direction == 'H':\n",
    "            self.end_points[0][1] = np.mean(np.array(self.min_coord))\n",
    "            self.end_points[1][1] = self.end_points[0][1]\n",
    "\n",
    "    def get_length(self, end_points):\n",
    "        return calc_distance(end_points[0], end_points[1])\n",
    "class PolygonWall(Wall):\n",
    "    def __init__(self, e, id, shape=None):\n",
    "        self.id = id\n",
    "        self.name = e.getAttribute('id')\n",
    "        self.X, self.Y = self.get_points(e)\n",
    "        if abs(max(self.X)-min(self.X)) < 4 or abs(max(self.Y)-min(self.Y)) < 4:\n",
    "            # wall is too small and we ignore it.\n",
    "            raise ValueError(\"small wall\")\n",
    "        if shape:\n",
    "            self.X = np.clip(self.X, 0, shape[1])\n",
    "            self.Y = np.clip(self.Y, 0, shape[0])\n",
    "        # self.X, self.Y = self.sort_X_Y(self.X, self.Y)\n",
    "        self.rr, self.cc = polygon(self.Y, self.X)\n",
    "        #direction = self.get_direction(self.X, self.Y)\n",
    "        #end_points = self.get_end_points(self.X, self.Y, direction)\n",
    "        #self.min_width = self.get_width(self.X, self.Y, direction)\n",
    "        #self.max_width = self.min_width\n",
    "\n",
    "        #Wall.__init__(self, id, end_points, direction, self.max_width, self.name)\n",
    "        #self.length = self.get_length(self.end_points)\n",
    "        #self.center = self.get_center(self.X, self.Y)\n",
    "        #self.min_coord, self.max_coord = self.get_width_coods(self.X, self.Y)\n",
    "\n",
    "    def get_points(self, e):\n",
    "        pol = next(p for p in e.childNodes if p.nodeName == \"polygon\")\n",
    "        points = pol.getAttribute(\"points\").split(' ')\n",
    "        points = points[:-1]\n",
    "\n",
    "        X, Y = np.array([]), np.array([])\n",
    "        for a in points:\n",
    "            x, y = a.split(',')\n",
    "            X = np.append(X, np.round(float(x)))\n",
    "            Y = np.append(Y, np.round(float(y)))\n",
    "\n",
    "        return X, Y\n",
    "\n"
   ]
  },
  {
   "cell_type": "code",
   "execution_count": 22,
   "metadata": {},
   "outputs": [],
   "source": [
    "def clip_outside( rr, cc,shape):\n",
    "        s = np.column_stack((rr, cc))\n",
    "        s = s[s[:, 0] < shape[0]]\n",
    "        s = s[s[:, 1] < shape[1]]\n",
    "\n",
    "        return s[:, 0], s[:, 1]\n",
    "def extract_wall(data_path):\n",
    "    fplan=cv2.imread(data_path+'F1_scaled.png')\n",
    "    fplan=cv2.cvtColor(fplan,cv2.COLOR_BGR2RGB)\n",
    "    height,width,nchannel=fplan.shape\n",
    "    #fplan=np.moveaxis(fplan,-1,0)\n",
    "    svg=minidom.parse(data_path+'model.svg')\n",
    "    walls=np.zeros((height,width),dtype=np.uint8)\n",
    "    wall_id=0\n",
    "    shape=height,width\n",
    "    for e in svg.getElementsByTagName('g'):\n",
    "        try:\n",
    "            if e.getAttribute(\"id\")==\"Wall\":\n",
    "                wall = PolygonWall(e, wall_id, shape)\n",
    "                wall.rr, wall.cc = clip_outside(wall.rr, wall.cc,shape)\n",
    "                walls[wall.rr, wall.cc] = 1\n",
    "                wall_id+=1\n",
    "                #plt.imshow(walls)\n",
    "                #plt.show()\n",
    "            if e.getAttribute(\"id\")==\"Railing\":\n",
    "                wall = PolygonWall(e, wall_id, shape)\n",
    "                wall.rr, wall.cc = clip_outside(wall.rr, wall.cc,shape)\n",
    "                walls[wall.rr, wall.cc] = 0.1\n",
    "                wall_id+=1\n",
    "        except ValueError as k:\n",
    "            if str(k)=='small wall':\n",
    "                continue\n",
    "    input_image=cv2.resize(fplan,(256,256))\n",
    "    wall_target=cv2.resize(walls,(256,256))\n",
    "    return input_image,wall_target\n",
    "    \n",
    "    "
   ]
  },
  {
   "cell_type": "code",
   "execution_count": 23,
   "metadata": {},
   "outputs": [
    {
     "data": {
      "text/plain": [
       "<matplotlib.image.AxesImage at 0x847f16810>"
      ]
     },
     "execution_count": 23,
     "metadata": {},
     "output_type": "execute_result"
    },
    {
     "data": {
      "image/png": "[encoded data removed]",
      "text/plain": [
       "<Figure size 432x288 with 1 Axes>"
      ]
     },
     "metadata": {
      "needs_background": "light"
     },
     "output_type": "display_data"
    }
   ],
   "source": [
    "x=extract_wall(test)\n",
    "plt.imshow(x[1])"
   ]
  },
  {
   "cell_type": "code",
   "execution_count": 24,
   "metadata": {},
   "outputs": [
    {
     "data": {
      "text/plain": [
       "<matplotlib.image.AxesImage at 0x848c344d0>"
      ]
     },
     "execution_count": 24,
     "metadata": {},
     "output_type": "execute_result"
    },
    {
     "data": {
      "image/png": "[encoded data removed]",
      "text/plain": [
       "<Figure size 432x288 with 1 Axes>"
      ]
     },
     "metadata": {
      "needs_background": "light"
     },
     "output_type": "display_data"
    }
   ],
   "source": [
    "re = cv2.imread(test+'F1_scaled.png')\n",
    "re = cv2.resize(re,(256,256))\n",
    "plt.imshow(re)"
   ]
  },
  {
   "cell_type": "code",
   "execution_count": 25,
   "metadata": {},
   "outputs": [
    {
     "name": "stdout",
     "output_type": "stream",
     "text": [
      "(32, 256, 256, 3)\n",
      "(32, 256, 256, 3)\n",
      "(32, 256, 256, 3)\n",
      "(32, 256, 256, 3)\n",
      "(32, 256, 256, 3)\n"
     ]
    }
   ],
   "source": [
    "def our_generator():\n",
    "    for i in range(len(data_path)):\n",
    "        x = extract_wall(data_path[i])[0]\n",
    "        y = extract_wall(data_path[i])[1]\n",
    "        y = np.expand_dims(y, axis=-1)\n",
    "        \n",
    "        yield x,y\n",
    "\n",
    "\n",
    "dataset=tf.data.Dataset.from_generator(our_generator,output_types=(tf.float32, tf.int16),output_shapes =(tf.TensorShape([256,256,3]),tf.TensorShape([256,256,1])))\n",
    "train_df=dataset.batch(32).prefetch(1)\n",
    "\n",
    "\n",
    "for i in train_df.take(5):\n",
    "    print(i[0].shape)\n",
    "    "
   ]
  },
  {
   "cell_type": "code",
   "execution_count": 26,
   "metadata": {},
   "outputs": [
    {
     "name": "stdout",
     "output_type": "stream",
     "text": [
      "(32, 256, 256, 1)\n",
      "(32, 256, 256, 1)\n",
      "(32, 256, 256, 1)\n",
      "(32, 256, 256, 1)\n",
      "(32, 256, 256, 1)\n"
     ]
    }
   ],
   "source": [
    "def our_generator2():\n",
    "    for i in range(len(data_path2)):\n",
    "        x = extract_wall(data_path2[i])[0]\n",
    "        y = (extract_wall(data_path2[i])[1])\n",
    "        y = np.expand_dims(y, axis=-1)\n",
    "        yield x,y\n",
    "\n",
    "dataset2=tf.data.Dataset.from_generator(our_generator2,output_types=(tf.float32, tf.int16),output_shapes =(tf.TensorShape([256,256,3]),tf.TensorShape([256,256,1])))\n",
    "val_df=dataset2.batch(32).prefetch(1)\n",
    "\n",
    "\n",
    "for i in val_df.take(5):\n",
    "    print(i[1].shape)\n",
    "    "
   ]
  },
  {
   "cell_type": "code",
   "execution_count": 27,
   "metadata": {},
   "outputs": [
    {
     "data": {
      "text/plain": [
       "tensorflow.python.data.ops.dataset_ops.DatasetV1Adapter"
      ]
     },
     "execution_count": 27,
     "metadata": {},
     "output_type": "execute_result"
    }
   ],
   "source": [
    "type(train_df)\n",
    "type(val_df)"
   ]
  },
  {
   "cell_type": "code",
   "execution_count": 30,
   "metadata": {},
   "outputs": [
    {
     "name": "stdout",
     "output_type": "stream",
     "text": [
      "0\n",
      "100\n",
      "200\n",
      "300\n",
      "400\n",
      "500\n",
      "600\n",
      "700\n",
      "800\n",
      "900\n",
      "1000\n",
      "1100\n",
      "1200\n",
      "1300\n",
      "1400\n",
      "1500\n",
      "1600\n",
      "1700\n",
      "1800\n",
      "1900\n",
      "2000\n",
      "2100\n",
      "2200\n",
      "2300\n",
      "2400\n",
      "2500\n",
      "2600\n",
      "2700\n",
      "2800\n",
      "2900\n",
      "3000\n",
      "3100\n",
      "3200\n",
      "3300\n",
      "3400\n",
      "3500\n",
      "3600\n",
      "3700\n",
      "3800\n",
      "3900\n",
      "4000\n",
      "4100\n"
     ]
    }
   ],
   "source": [
    "X=np.empty((len(data_path),256,256,3))\n",
    "Y=np.empty((len(data_path),256,256,1))\n",
    "for i in range(len(data_path)):\n",
    "    if i %100==0:\n",
    "        print(i)\n",
    "    X[i]=extract_wall(data_path[i])[0]/255.\n",
    "    Y[i]=np.expand_dims(extract_wall(data_path[i])[1], axis=-1)\n",
    "\n",
    "\n",
    "    "
   ]
  },
  {
   "cell_type": "code",
   "execution_count": 31,
   "metadata": {},
   "outputs": [],
   "source": [
    "outfile = './saved_arrays/train_X.npy'\n",
    "outfile2 = './saved_arrays/train_Y.npy'\n",
    "\n",
    "np.save(outfile, X)\n",
    "#X = np.load(outfile)\n",
    "\n",
    "np.save(outfile2, Y)\n",
    "#Y = np.load(outfile2)"
   ]
  },
  {
   "cell_type": "code",
   "execution_count": null,
   "metadata": {},
   "outputs": [],
   "source": [
    "X2=np.empty((len(data_path2),256,256,3))\n",
    "Y2=np.empty((len(data_path2),256,256,1))\n",
    "for i in range(len(data_path2)):\n",
    "    if i %100==0:\n",
    "        print(i)\n",
    "    X2[i]=extract_wall(data_path2[i])[0]/255.\n",
    "    Y2[i]=np.expand_dims(extract_wall(data_path2[i])[1], axis=-1)\n"
   ]
  },
  {
   "cell_type": "code",
   "execution_count": 36,
   "metadata": {},
   "outputs": [],
   "source": [
    "outfile3 = './saved_arrays/test_X.npy'\n",
    "outfile4 = './saved_arrays/test_Y.npy'\n",
    "\n",
    "np.save(outfile3, X2)\n",
    "#X2 = np.load(outfile3)\n",
    "\n",
    "np.save(outfile4, Y2)\n",
    "#Y2 = np.load(outfile3)"
   ]
  },
  {
   "cell_type": "markdown",
   "metadata": {},
   "source": [
    "## Models"
   ]
  },
  {
   "cell_type": "code",
   "execution_count": 25,
   "metadata": {},
   "outputs": [
    {
     "name": "stdout",
     "output_type": "stream",
     "text": [
      "Model: \"sequential\"\n",
      "_________________________________________________________________\n",
      "Layer (type)                 Output Shape              Param #   \n",
      "=================================================================\n",
      "conv2d (Conv2D)              (None, 256, 256, 64)      1792      \n",
      "_________________________________________________________________\n",
      "conv2d_1 (Conv2D)            (None, 256, 256, 64)      36928     \n",
      "_________________________________________________________________\n",
      "max_pooling2d (MaxPooling2D) (None, 128, 128, 64)      0         \n",
      "_________________________________________________________________\n",
      "dropout (Dropout)            (None, 128, 128, 64)      0         \n",
      "_________________________________________________________________\n",
      "conv2d_2 (Conv2D)            (None, 128, 128, 64)      36928     \n",
      "_________________________________________________________________\n",
      "conv2d_transpose (Conv2DTran (None, 256, 256, 32)      51232     \n",
      "_________________________________________________________________\n",
      "conv2d_transpose_1 (Conv2DTr (None, 256, 256, 1)       801       \n",
      "_________________________________________________________________\n",
      "reshape (Reshape)            (None, 256, 256)          0         \n",
      "=================================================================\n",
      "Total params: 127,681\n",
      "Trainable params: 127,681\n",
      "Non-trainable params: 0\n",
      "_________________________________________________________________\n"
     ]
    }
   ],
   "source": [
    "input_size =(256,256,3)\n",
    "output_size = (256,256)\n",
    "\n",
    "model = Sequential() # Create sequential model\n",
    "\n",
    "n_filters = 64\n",
    "# Add network layers\n",
    "model.add(Conv2D(n_filters, (3, 3), activation='relu', padding='same', input_shape=input_size))\n",
    "model.add(Conv2D(n_filters, (3, 3), activation='relu', padding='same'))\n",
    "model.add(MaxPooling2D((2, 2)))\n",
    "model.add(Dropout(0.2))\n",
    "model.add(Conv2D(n_filters, (3, 3), activation='relu', padding='same'))\n",
    "model.add(Conv2DTranspose(32,(5,5),padding='same', activation=tf.nn.leaky_relu, strides=(2, 2)))\n",
    "model.add(Conv2DTranspose(1,(5,5),padding='same', activation=tf.nn.sigmoid))\n",
    "model.add(tf.keras.layers.Reshape((256,256)))\n",
    "\n",
    "model.summary()"
   ]
  },
  {
   "cell_type": "code",
   "execution_count": 57,
   "metadata": {},
   "outputs": [
    {
     "name": "stdout",
     "output_type": "stream",
     "text": [
      "Model: \"sequential_1\"\n",
      "_________________________________________________________________\n",
      "Layer (type)                 Output Shape              Param #   \n",
      "=================================================================\n",
      "conv2d_2 (Conv2D)            (None, 256, 256, 8)       224       \n",
      "_________________________________________________________________\n",
      "conv2d_3 (Conv2D)            (None, 256, 256, 1)       73        \n",
      "_________________________________________________________________\n",
      "reshape (Reshape)            (None, 256, 256)          0         \n",
      "=================================================================\n",
      "Total params: 297\n",
      "Trainable params: 297\n",
      "Non-trainable params: 0\n",
      "_________________________________________________________________\n"
     ]
    }
   ],
   "source": [
    "input_size =(256,256,3)\n",
    "\n",
    "model = Sequential()\n",
    "model.add(Conv2D(8, (3, 3), padding='same', activation='relu', input_shape=input_size))\n",
    "model.add(Conv2D(1, (3, 3), padding='same', activation=tf.nn.sigmoid))\n",
    "model.add(tf.keras.layers.Reshape((256,256)))\n",
    "model.summary()\n",
    "\n"
   ]
  },
  {
   "cell_type": "code",
   "execution_count": 68,
   "metadata": {},
   "outputs": [],
   "source": [
    "opt = Adam(lr=0.01)\n",
    "loss = tf.keras.losses.categorical_crossentropy\n",
    "model.compile(optimizer=opt, loss=loss, metrics=['accuracy'])"
   ]
  },
  {
   "cell_type": "code",
   "execution_count": null,
   "metadata": {
    "scrolled": false
   },
   "outputs": [],
   "source": [
    "history = model.fit(train_df,\n",
    "                 epochs=3,\n",
    "                 validation_data = val_df)"
   ]
  },
  {
   "cell_type": "code",
   "execution_count": 59,
   "metadata": {},
   "outputs": [],
   "source": [
    "#Y = to_categorical(Y)\n",
    "#Y2 = to_categorical(Y2)\n",
    "Y = np.load(outfile2)\n",
    "Y2 = np.load(outfile4)\n",
    "Y = np.squeeze(Y, axis=(3,))\n",
    "Y2 = np.squeeze(Y2, axis=(3,))"
   ]
  },
  {
   "cell_type": "code",
   "execution_count": 60,
   "metadata": {},
   "outputs": [
    {
     "data": {
      "text/plain": [
       "(4200, 256, 256)"
      ]
     },
     "execution_count": 60,
     "metadata": {},
     "output_type": "execute_result"
    }
   ],
   "source": [
    "Y.shape"
   ]
  },
  {
   "cell_type": "code",
   "execution_count": null,
   "metadata": {},
   "outputs": [],
   "source": [
    "history2 = model.fit(X, Y, \n",
    "                              epochs=10, \n",
    "                              verbose=1,\n",
    "                              batch_size = 32,\n",
    "                              validation_data=(X2, Y2))"
   ]
  },
  {
   "cell_type": "markdown",
   "metadata": {},
   "source": [
    "### U-Net Model "
   ]
  },
  {
   "cell_type": "code",
   "execution_count": 67,
   "metadata": {},
   "outputs": [
    {
     "name": "stdout",
     "output_type": "stream",
     "text": [
      "Model: \"model\"\n",
      "__________________________________________________________________________________________________\n",
      "Layer (type)                    Output Shape         Param #     Connected to                     \n",
      "==================================================================================================\n",
      "input_1 (InputLayer)            [(None, 256, 256, 3) 0                                            \n",
      "__________________________________________________________________________________________________\n",
      "conv2d_4 (Conv2D)               (None, 256, 256, 32) 896         input_1[0][0]                    \n",
      "__________________________________________________________________________________________________\n",
      "dropout (Dropout)               (None, 256, 256, 32) 0           conv2d_4[0][0]                   \n",
      "__________________________________________________________________________________________________\n",
      "conv2d_5 (Conv2D)               (None, 256, 256, 32) 9248        dropout[0][0]                    \n",
      "__________________________________________________________________________________________________\n",
      "max_pooling2d (MaxPooling2D)    (None, 128, 128, 32) 0           conv2d_5[0][0]                   \n",
      "__________________________________________________________________________________________________\n",
      "conv2d_6 (Conv2D)               (None, 128, 128, 64) 18496       max_pooling2d[0][0]              \n",
      "__________________________________________________________________________________________________\n",
      "dropout_1 (Dropout)             (None, 128, 128, 64) 0           conv2d_6[0][0]                   \n",
      "__________________________________________________________________________________________________\n",
      "conv2d_7 (Conv2D)               (None, 128, 128, 64) 36928       dropout_1[0][0]                  \n",
      "__________________________________________________________________________________________________\n",
      "max_pooling2d_1 (MaxPooling2D)  (None, 64, 64, 64)   0           conv2d_7[0][0]                   \n",
      "__________________________________________________________________________________________________\n",
      "conv2d_8 (Conv2D)               (None, 64, 64, 128)  73856       max_pooling2d_1[0][0]            \n",
      "__________________________________________________________________________________________________\n",
      "dropout_2 (Dropout)             (None, 64, 64, 128)  0           conv2d_8[0][0]                   \n",
      "__________________________________________________________________________________________________\n",
      "conv2d_9 (Conv2D)               (None, 64, 64, 128)  147584      dropout_2[0][0]                  \n",
      "__________________________________________________________________________________________________\n",
      "up_sampling2d (UpSampling2D)    (None, 128, 128, 128 0           conv2d_9[0][0]                   \n",
      "__________________________________________________________________________________________________\n",
      "concatenate (Concatenate)       (None, 128, 128, 192 0           up_sampling2d[0][0]              \n",
      "                                                                 conv2d_7[0][0]                   \n",
      "__________________________________________________________________________________________________\n",
      "conv2d_10 (Conv2D)              (None, 128, 128, 64) 110656      concatenate[0][0]                \n",
      "__________________________________________________________________________________________________\n",
      "dropout_3 (Dropout)             (None, 128, 128, 64) 0           conv2d_10[0][0]                  \n",
      "__________________________________________________________________________________________________\n",
      "conv2d_11 (Conv2D)              (None, 128, 128, 64) 36928       dropout_3[0][0]                  \n",
      "__________________________________________________________________________________________________\n",
      "up_sampling2d_1 (UpSampling2D)  (None, 256, 256, 64) 0           conv2d_11[0][0]                  \n",
      "__________________________________________________________________________________________________\n",
      "concatenate_1 (Concatenate)     (None, 256, 256, 96) 0           up_sampling2d_1[0][0]            \n",
      "                                                                 conv2d_5[0][0]                   \n",
      "__________________________________________________________________________________________________\n",
      "conv2d_12 (Conv2D)              (None, 256, 256, 32) 27680       concatenate_1[0][0]              \n",
      "__________________________________________________________________________________________________\n",
      "dropout_4 (Dropout)             (None, 256, 256, 32) 0           conv2d_12[0][0]                  \n",
      "__________________________________________________________________________________________________\n",
      "conv2d_13 (Conv2D)              (None, 256, 256, 32) 9248        dropout_4[0][0]                  \n",
      "__________________________________________________________________________________________________\n",
      "conv2d_14 (Conv2D)              (None, 256, 256, 1)  33          conv2d_13[0][0]                  \n",
      "__________________________________________________________________________________________________\n",
      "reshape_1 (Reshape)             (None, 256, 256)     0           conv2d_14[0][0]                  \n",
      "==================================================================================================\n",
      "Total params: 471,553\n",
      "Trainable params: 471,553\n",
      "Non-trainable params: 0\n",
      "__________________________________________________________________________________________________\n"
     ]
    }
   ],
   "source": [
    "#some segmentation model from https://divamgupta.com/image-segmentation/2019/06/06/deep-learning-semantic-segmentation-keras.html\n",
    "\n",
    "img_input = Input(shape=(256 ,256, 3 ))\n",
    "\n",
    "conv1 = Conv2D(32, (3, 3), activation='relu', padding='same')(img_input)\n",
    "conv1 = Dropout(0.2)(conv1)\n",
    "conv1 = Conv2D(32, (3, 3), activation='relu', padding='same')(conv1)\n",
    "pool1 = MaxPooling2D((2, 2))(conv1)\n",
    "\n",
    "conv2 = Conv2D(64, (3, 3), activation='relu', padding='same')(pool1)\n",
    "conv2 = Dropout(0.2)(conv2)\n",
    "conv2 = Conv2D(64, (3, 3), activation='relu', padding='same')(conv2)\n",
    "pool2 = MaxPooling2D((2, 2))(conv2)\n",
    "\n",
    "conv3 = Conv2D(128, (3, 3), activation='relu', padding='same')(pool2)\n",
    "conv3 = Dropout(0.2)(conv3)\n",
    "conv3 = Conv2D(128, (3, 3), activation='relu', padding='same')(conv3)\n",
    "\n",
    "up1 = concatenate([UpSampling2D((2, 2))(conv3), conv2], axis=-1)\n",
    "conv4 = Conv2D(64, (3, 3), activation='relu', padding='same')(up1)\n",
    "conv4 = Dropout(0.2)(conv4)\n",
    "conv4 = Conv2D(64, (3, 3), activation='relu', padding='same')(conv4)\n",
    "\n",
    "up2 = concatenate([UpSampling2D((2, 2))(conv4), conv1], axis=-1)\n",
    "conv5 = Conv2D(32, (3, 3), activation='relu', padding='same')(up2)\n",
    "conv5 = Dropout(0.2)(conv5)\n",
    "conv5 = Conv2D(32, (3, 3), activation='relu', padding='same')(conv5)\n",
    "\n",
    "out = Conv2D(1, (1, 1), activation='sigmoid' , padding='same')(conv5)\n",
    "out = Reshape((256,256))(out)\n",
    "\n",
    "model= tf.keras.Model(img_input, out)\n",
    "\n",
    "opt = Adam(lr=0.01)\n",
    "loss = tf.keras.losses.categorical_crossentropy\n",
    "model.compile(optimizer=opt, loss=loss, metrics=['accuracy'])\n",
    "model.summary()"
   ]
  },
  {
   "cell_type": "code",
   "execution_count": 64,
   "metadata": {},
   "outputs": [],
   "source": [
    "def store_keras_model(model, model_name):\n",
    "    model_json = model.to_json() # serialize model to JSON\n",
    "    with open(\"./models/{}.json\".format(model_name), \"w\") as json_file:\n",
    "        json_file.write(model_json)\n",
    "    model.save_weights(\"./models/{}.h5\".format(model_name)) # serialize weights to HDF5\n",
    "    print(\"Saved model to disk\")\n",
    "def load_keras_model(model_name):\n",
    "    # Load json and create model\n",
    "    json_file = open('./models/{}.json'.format(model_name), 'r')\n",
    "    loaded_model_json = json_file.read()\n",
    "    json_file.close()\n",
    "    model = tf.keras.models.model_from_json(loaded_model_json)\n",
    "    # Load weights into new model\n",
    "    model.load_weights(\"./models/{}.h5\".format(model_name))\n",
    "    return model"
   ]
  },
  {
   "cell_type": "code",
   "execution_count": null,
   "metadata": {},
   "outputs": [],
   "source": [
    "store_keras_model(model, 'model_1')"
   ]
  },
  {
   "cell_type": "code",
   "execution_count": 66,
   "metadata": {},
   "outputs": [],
   "source": [
    "#RNN = load_keras_model('model_RNN')"
   ]
  },
  {
   "cell_type": "code",
   "execution_count": null,
   "metadata": {},
   "outputs": [],
   "source": []
  }
 ],
 "metadata": {
  "kernelspec": {
   "display_name": "Python 3",
   "language": "python",
   "name": "python3"
  },
  "language_info": {
   "codemirror_mode": {
    "name": "ipython",
    "version": 3
   },
   "file_extension": ".py",
   "mimetype": "text/x-python",
   "name": "python",
   "nbconvert_exporter": "python",
   "pygments_lexer": "ipython3",
   "version": "3.7.5"
  }
 },
 "nbformat": 4,
 "nbformat_minor": 4
}
